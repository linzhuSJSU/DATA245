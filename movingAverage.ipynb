{
 "cells": [
  {
   "cell_type": "code",
   "execution_count": null,
   "metadata": {},
   "outputs": [],
   "source": [
    "import pandas as pd\n",
    "import datetime as dt\n",
    "from statistics import mean\n",
    "\n",
    "df = pd.read_csv('EVCS_edited.csv')"
   ]
  },
  {
   "cell_type": "code",
   "execution_count": null,
   "metadata": {},
   "outputs": [],
   "source": [
    "df['PastWkOccRate'] = 0\n",
    "df.rename(columns = {'Date': 'Day'}, inplace=True)\n",
    "# df.head()"
   ]
  },
  {
   "cell_type": "code",
   "execution_count": null,
   "metadata": {},
   "outputs": [],
   "source": [
    "df['FullDate'] = pd.to_datetime(df[['Year', 'Month', 'Day']])\n",
    "df.head()"
   ]
  },
  {
   "cell_type": "code",
   "execution_count": null,
   "metadata": {},
   "outputs": [],
   "source": [
    "df_split = dict()\n",
    "for station in df['Station_Name'].unique():\n",
    "    df_split[station] = df[df['Station_Name'] == station].sort_values(['Year', 'Month', 'Day', 'Start_Hour']).reset_index()"
   ]
  },
  {
   "cell_type": "code",
   "execution_count": null,
   "metadata": {},
   "outputs": [],
   "source": [
    "for name, station in df_split.items():\n",
    "    for i in range(len(station)):\n",
    "        if i == 0:\n",
    "            station.at[i, 'Past24Avg'] = 0\n",
    "        elif i < 24:\n",
    "            station.at[i, 'Past24Avg'] = mean([station.at[j, 'OccupationRate'] for j in range(i-1, -1, -1)])\n",
    "        else:\n",
    "            station.at[i, 'Past24Avg'] = mean([station.at[j, 'OccupationRate'] for j in range(i-1, i-25, -1)])"
   ]
  },
  {
   "cell_type": "code",
   "execution_count": null,
   "metadata": {},
   "outputs": [],
   "source": [
    "for name, station in df_split.items():\n",
    "    \n",
    "    # setting firstDay in station data\n",
    "    firstDay = station.at[0, 'FullDate']\n",
    "    \n",
    "    for i, row in station.iterrows():\n",
    "        hour = row['Start_Hour']\n",
    "\n",
    "        # Getting start date for past week\n",
    "        today = row['FullDate']\n",
    "        \n",
    "        # Skipping calculations if its first day\n",
    "        if today == firstDay:\n",
    "            station['PastWkOccRate'] = 0\n",
    "            continue\n",
    "            \n",
    "        else:\n",
    "            prevWk = [today - dt.timedelta(days=i) for i in range(1, 8)]\n",
    "            \n",
    "            prevWkDF = station[station['FullDate'].isin(prevWk)]\n",
    "            # Creating mask for past 7 days for same hour\n",
    "            mask = (prevWkDF['Start_Hour'] == hour)i\n",
    "            prevWkDF = prevWkDF.loc[mask, 'OccupationRate']\n",
    "\n",
    "            # Calculating average occupation for last 7 days\n",
    "            avgOccRate = prevWkDF.mean()\n",
    "            station.at[i, 'PastWkOccRate'] = avgOccRate"
   ]
  },
  {
   "cell_type": "code",
   "execution_count": null,
   "metadata": {},
   "outputs": [],
   "source": [
    "del df\n",
    "\n",
    "df = pd.concat([df_split[station] for station in df_split])\n",
    "\n",
    "df.info()"
   ]
  },
  {
   "cell_type": "code",
   "execution_count": null,
   "metadata": {},
   "outputs": [],
   "source": [
    "df.to_csv('EVCS_MA.csv')\n",
    "\n",
    "old_df = pd.read_csv('EVCS_edited.csv')\n",
    "\n",
    "old_df.info()"
   ]
  }
 ],
 "metadata": {
  "language_info": {
   "name": "python"
  },
  "orig_nbformat": 4
 },
 "nbformat": 4,
 "nbformat_minor": 2
}
