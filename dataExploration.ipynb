{
 "cells": [
  {
   "attachments": {},
   "cell_type": "markdown",
   "metadata": {},
   "source": [
    "#### Data Exploration"
   ]
  },
  {
   "cell_type": "code",
   "execution_count": 2,
   "metadata": {},
   "outputs": [
    {
     "data": {
      "text/plain": [
       "16"
      ]
     },
     "execution_count": 2,
     "metadata": {},
     "output_type": "execute_result"
    }
   ],
   "source": [
    "import pandas as pd\n",
    "\n",
    "df = pd.read_csv(\"C:\\\\Users\\\\ASUS\\\\Desktop\\\\DATA245\\\\EVCS_Energy.csv.csv\")\n",
    "\n",
    "len(df.columns)"
   ]
  },
  {
   "cell_type": "code",
   "execution_count": null,
   "metadata": {},
   "outputs": [],
   "source": [
    "# Instance count plot\n",
    "import matplotlib.pyplot as plt\n",
    "\n",
    "plt.figure(figsize =(12, 6))\n",
    "n, bins, _ = plt.hist(df[['OccupationRate']], bins=20, range=(0, 100), color='goldenrod', rwidth=0.8)\n",
    "plt.yscale('log')\n",
    "plt.ylabel('log # of instances')\n",
    "plt.xlabel('Occupation rate (%)') \n",
    "plt.title('Occupation Rate Count')\n",
    "plt.show()"
   ]
  },
  {
   "cell_type": "code",
   "execution_count": null,
   "metadata": {},
   "outputs": [],
   "source": [
    "for column in ['Station_Name', 'Address', 'City', 'State_Province']:\n",
    "    df[column] = pd.factorize(df[column])[0]"
   ]
  },
  {
   "cell_type": "code",
   "execution_count": null,
   "metadata": {},
   "outputs": [],
   "source": [
    "import seaborn as sns\n",
    "\n",
    "plt.figure(figsize=(8, 8))\n",
    "corr = df.corr()\n",
    "sns.heatmap(corr, annot=True, cmap='coolwarm', cbar=False, square=True, fmt='.2f', annot_kws={'size': 10})\n",
    "plt.show()"
   ]
  },
  {
   "cell_type": "code",
   "execution_count": null,
   "metadata": {},
   "outputs": [],
   "source": [
    "fig, axes = plt.subplots(nrows=5, ncols=3, figsize=(8, 16))\n",
    "# Plot a histogram for each column in a separate subplot\n",
    "for i, col in enumerate(df.columns):\n",
    "    row_idx = i // 3\n",
    "    col_idx = i % 3\n",
    "    col_data = pd.Series(df2021[col])\n",
    "    # sns.histplot(col_data, kde=True, ax=axes[row_idx, col_idx])\n",
    "    axes[row_idx, col_idx].hist(col_data, density=True)\n",
    "    axes[row_idx, col_idx].set_title(col)\n",
    "    \n",
    "\n",
    "# Adjust the spacing between subplots\n",
    "plt.tight_layout()\n",
    "\n",
    "# Display the plot\n",
    "plt.show()"
   ]
  },
  {
   "cell_type": "code",
   "execution_count": null,
   "metadata": {},
   "outputs": [],
   "source": [
    "df2021 = df[df['Year'] >= 2021]\n",
    "\n",
    "df2021.reset_index(drop=True, inplace=True)\n",
    "\n",
    "df2021"
   ]
  },
  {
   "cell_type": "code",
   "execution_count": null,
   "metadata": {},
   "outputs": [],
   "source": [
    "num_cols = len(df2021.columns)\n",
    "fig, axes = plt.subplots(nrows=4, ncols=4, figsize=(8, 10))\n",
    "# Plot a histogram for each column in a separate subplot\n",
    "for i, col in enumerate(df.columns):\n",
    "    row_idx = i // 4\n",
    "    col_idx = i % 4\n",
    "    col_data = pd.Series(df2021[col])\n",
    "    # sns.histplot(col_data, kde=True, ax=axes[row_idx, col_idx])\n",
    "    axes[row_idx, col_idx].hist(col_data, density=True)\n",
    "    axes[row_idx, col_idx].set_title(col)\n",
    "    \n",
    "\n",
    "# Adjust the spacing between subplots\n",
    "plt.tight_layout()\n",
    "\n",
    "# Display the plot\n",
    "plt.show()"
   ]
  },
  {
   "cell_type": "code",
   "execution_count": null,
   "metadata": {},
   "outputs": [],
   "source": [
    "df2021.columns"
   ]
  },
  {
   "cell_type": "code",
   "execution_count": null,
   "metadata": {},
   "outputs": [],
   "source": [
    "for cont in ['PastWkOccRate', 'Past24Avg']:\n",
    "    print(df2021[cont].describe())"
   ]
  },
  {
   "cell_type": "code",
   "execution_count": null,
   "metadata": {},
   "outputs": [],
   "source": [
    "for col in ['City', 'State_Province', 'NumberOfPorts']:\n",
    "    print(col)\n",
    "    print(f'Number of unique values: {len(df[col].unique())}')"
   ]
  }
 ],
 "metadata": {
  "kernelspec": {
   "display_name": "Python 3",
   "language": "python",
   "name": "python3"
  },
  "language_info": {
   "codemirror_mode": {
    "name": "ipython",
    "version": 3
   },
   "file_extension": ".py",
   "mimetype": "text/x-python",
   "name": "python",
   "nbconvert_exporter": "python",
   "pygments_lexer": "ipython3",
   "version": "3.10.6"
  },
  "orig_nbformat": 4
 },
 "nbformat": 4,
 "nbformat_minor": 2
}
