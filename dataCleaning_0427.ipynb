{
 "cells": [
  {
   "cell_type": "code",
   "execution_count": 1,
   "id": "a63837b4-f5b0-46bb-8c46-6d6b3c5cf14b",
   "metadata": {},
   "outputs": [
    {
     "data": {
      "text/plain": [
       "'\\n04/27 update:\\n1. Updated Cell 6\\n2. Added data exploration, undersampling\\n3. Preliminary modeling and model eval\\n4. Saved models\\n\\n04/26 update:\\n1. Added Cell 6\\n\\n'"
      ]
     },
     "execution_count": 1,
     "metadata": {},
     "output_type": "execute_result"
    }
   ],
   "source": [
    "'''\n",
    "04/27 update:\n",
    "1. Updated Cell 6\n",
    "2. Added data exploration, undersampling\n",
    "3. Preliminary modeling and model eval\n",
    "4. Saved models\n",
    "\n",
    "04/26 update:\n",
    "1. Added Cell 6\n",
    "\n",
    "'''"
   ]
  },
  {
   "cell_type": "code",
   "execution_count": 2,
   "id": "40bec1e3-2da9-454a-b79c-97f6546b1d0a",
   "metadata": {},
   "outputs": [],
   "source": [
    "import pandas as pd\n",
    "import datetime"
   ]
  },
  {
   "cell_type": "code",
   "execution_count": 3,
   "id": "624cfb97-5cbd-4f98-84b8-9f5649af389f",
   "metadata": {},
   "outputs": [],
   "source": [
    "dt = datetime.datetime"
   ]
  },
  {
   "cell_type": "code",
   "execution_count": 4,
   "id": "37ef6c76-f9fe-4b35-8e15-b428faf86aa8",
   "metadata": {},
   "outputs": [],
   "source": [
    "def removeUTC(date_string):\n",
    "    '''\n",
    "    Removes the +00 in UTC datetime string\n",
    "    '''\n",
    "    return date_string.split(\"+\")[0]"
   ]
  },
  {
   "cell_type": "code",
   "execution_count": 9,
   "id": "b31dbc5b-7434-4c5c-855b-d96b400c5d9f",
   "metadata": {},
   "outputs": [],
   "source": [
    "df = pd.read_csv(\"C:\\\\Users\\\\ASUS\\\\Desktop\\\\New folder\\\\EVCS_Energy.csv.csv\")"
   ]
  },
  {
   "cell_type": "code",
   "execution_count": 10,
   "id": "f6c1f1d8-386c-42b3-a702-d45213661152",
   "metadata": {},
   "outputs": [],
   "source": [
    "# dropping all rows with NaN\n",
    "df.dropna(inplace=True)"
   ]
  },
  {
   "cell_type": "code",
   "execution_count": 11,
   "id": "7551c8c1-e0a1-4850-ba31-3a92b81d735e",
   "metadata": {},
   "outputs": [],
   "source": [
    "df = df.reset_index()\n",
    "threshold = pd.Timedelta(hours=96)\n",
    "rows_to_drop = []\n",
    "\n",
    "\n",
    "for idx, _ in df.iterrows():\n",
    "    \n",
    "    start_time = pd.to_datetime(df.iloc[idx]['Start_Date___Time'])\n",
    "    end_time = pd.to_datetime(df.iloc[idx]['End_Date___Time'])\n",
    "    \n",
    "    if (end_time - start_time) >= threshold:\n",
    "        rows_to_drop.append(idx)\n",
    "        continue\n",
    "    \n",
    "    duration = pd.to_timedelta(df.iloc[idx]['Total_Duration__hh_mm_ss_'])\n",
    "    \n",
    "    if ((end_time - start_time) - duration) > pd.Timedelta(minutes=1):\n",
    "        rows_to_drop.append(idx)\n",
    "\n",
    "df = df.drop(rows_to_drop)"
   ]
  },
  {
   "cell_type": "code",
   "execution_count": 12,
   "id": "565e91a3-0d45-44d2-b11a-c39f5fd8b0d5",
   "metadata": {},
   "outputs": [],
   "source": [
    "# creating a dictionary for storing station information for easier access\n",
    "station_names = set(df['Station_Name'])\n",
    "zeros = [0]*len(station_names)\n",
    "\n",
    "station_dict = dict(zip(station_names, zeros))\n",
    "# station_dict"
   ]
  },
  {
   "cell_type": "code",
   "execution_count": 13,
   "id": "309d0bc8-cda0-47ea-98db-c1178f5a1bbd",
   "metadata": {},
   "outputs": [],
   "source": [
    "split_sessions = []\n",
    "df_hourly_col = ['Station_Name', 'Address', 'City', 'State_Province', 'Zip','Year', 'Month', 'Date', 'DayOfWeek','Start_Hour', 'Minutes_Occupied_Per_Hour']\n",
    "\n",
    "# increments time by 1 hour\n",
    "delta = datetime.timedelta(hours=1)\n",
    "\n",
    "for idx, session in df.iterrows():\n",
    "    \n",
    "    # calculating start and end times for each session\n",
    "    start_time = dt.strptime(removeUTC(session['Start_Date___Time']), '%Y/%m/%d %H:%M:%S')\n",
    "    end_time = dt.strptime(removeUTC(session['End_Date___Time']), '%Y/%m/%d %H:%M:%S')\n",
    "    station = session['Station_Name']\n",
    "    # print(station, start_time, end_time)\n",
    "    \n",
    "    # updating the station_dict info for every new station\n",
    "    if station_dict[station] == 0:\n",
    "        station_dict[station] = {\n",
    "            'address': session['Address'],\n",
    "            'city': session['City'],\n",
    "            'state': session['State_Province'],\n",
    "            'zip': session['Zip_Postal_Code']\n",
    "        }\n",
    "    \n",
    "    station_info = (station, station_dict[station]['address'], station_dict[station]['city'], station_dict[station]['state'], station_dict[station]['zip'])\n",
    "    \n",
    "    current_time = start_time\n",
    "    while not current_time > end_time:\n",
    "        # print(current_time)\n",
    "        \n",
    "        # Handling edge case for start and end time in the same hour\n",
    "        if start_time.replace(minute=0, second=0) == end_time.replace(minute=0, second=0):\n",
    "            split_sessions.append(station_info + (start_time.year, start_time.month, start_time.day, start_time.isoweekday(),start_time.hour, (end_time - start_time).seconds / 60))\n",
    "            current_time += delta\n",
    "        \n",
    "        # Getting occupancy rate for first hour of session\n",
    "        elif current_time == start_time:\n",
    "            rightbound = start_time.replace(minute=0, second=0) + delta\n",
    "            split_sessions.append(station_info + (start_time.year, start_time.month, start_time.day, start_time.isoweekday(),start_time.hour, (rightbound - start_time).seconds / 60))\n",
    "            current_time = rightbound\n",
    "        \n",
    "        # Getting occupancy for last hour of session\n",
    "        elif current_time >= end_time.replace(minute=0, second=0):\n",
    "            leftbound = end_time.replace(minute=0, second=0)\n",
    "            split_sessions.append(station_info + (end_time.year, end_time.month, end_time.day, end_time.isoweekday(), end_time.hour, (end_time - leftbound).seconds / 60))\n",
    "            current_time += delta\n",
    "        \n",
    "        else:\n",
    "            split_sessions.append(station_info + (current_time.year, current_time.month, current_time.day, current_time.isoweekday(), current_time.hour, 60))\n",
    "            current_time += delta\n",
    "        \n",
    "# create a new DataFrame from the split sessions\n",
    "df_split = pd.DataFrame(split_sessions, columns=df_hourly_col)"
   ]
  },
  {
   "cell_type": "code",
   "execution_count": 14,
   "id": "02a0bf11-afd6-4ebc-a0f2-5fc3eb11e8e8",
   "metadata": {},
   "outputs": [
    {
     "data": {
      "text/html": [
       "<div>\n",
       "<style scoped>\n",
       "    .dataframe tbody tr th:only-of-type {\n",
       "        vertical-align: middle;\n",
       "    }\n",
       "\n",
       "    .dataframe tbody tr th {\n",
       "        vertical-align: top;\n",
       "    }\n",
       "\n",
       "    .dataframe thead th {\n",
       "        text-align: right;\n",
       "    }\n",
       "</style>\n",
       "<table border=\"1\" class=\"dataframe\">\n",
       "  <thead>\n",
       "    <tr style=\"text-align: right;\">\n",
       "      <th></th>\n",
       "      <th>Station_Name</th>\n",
       "      <th>Address</th>\n",
       "      <th>City</th>\n",
       "      <th>State_Province</th>\n",
       "      <th>Zip</th>\n",
       "      <th>Year</th>\n",
       "      <th>Month</th>\n",
       "      <th>Date</th>\n",
       "      <th>DayOfWeek</th>\n",
       "      <th>Start_Hour</th>\n",
       "      <th>Minutes_Occupied_Per_Hour</th>\n",
       "    </tr>\n",
       "  </thead>\n",
       "  <tbody>\n",
       "    <tr>\n",
       "      <th>0</th>\n",
       "      <td>BOULDER / BASELINE ST1</td>\n",
       "      <td>900 Baseline Rd</td>\n",
       "      <td>Boulder</td>\n",
       "      <td>Colorado</td>\n",
       "      <td>80302</td>\n",
       "      <td>2018</td>\n",
       "      <td>1</td>\n",
       "      <td>20</td>\n",
       "      <td>6</td>\n",
       "      <td>7</td>\n",
       "      <td>31.0</td>\n",
       "    </tr>\n",
       "    <tr>\n",
       "      <th>1</th>\n",
       "      <td>BOULDER / BASELINE ST1</td>\n",
       "      <td>900 Baseline Rd</td>\n",
       "      <td>Boulder</td>\n",
       "      <td>Colorado</td>\n",
       "      <td>80302</td>\n",
       "      <td>2018</td>\n",
       "      <td>1</td>\n",
       "      <td>20</td>\n",
       "      <td>6</td>\n",
       "      <td>8</td>\n",
       "      <td>60.0</td>\n",
       "    </tr>\n",
       "    <tr>\n",
       "      <th>2</th>\n",
       "      <td>BOULDER / BASELINE ST1</td>\n",
       "      <td>900 Baseline Rd</td>\n",
       "      <td>Boulder</td>\n",
       "      <td>Colorado</td>\n",
       "      <td>80302</td>\n",
       "      <td>2018</td>\n",
       "      <td>1</td>\n",
       "      <td>20</td>\n",
       "      <td>6</td>\n",
       "      <td>9</td>\n",
       "      <td>22.0</td>\n",
       "    </tr>\n",
       "    <tr>\n",
       "      <th>3</th>\n",
       "      <td>BOULDER / BASELINE ST1</td>\n",
       "      <td>900 Baseline Rd</td>\n",
       "      <td>Boulder</td>\n",
       "      <td>Colorado</td>\n",
       "      <td>80302</td>\n",
       "      <td>2018</td>\n",
       "      <td>2</td>\n",
       "      <td>9</td>\n",
       "      <td>5</td>\n",
       "      <td>16</td>\n",
       "      <td>3.0</td>\n",
       "    </tr>\n",
       "    <tr>\n",
       "      <th>4</th>\n",
       "      <td>BOULDER / BASELINE ST1</td>\n",
       "      <td>900 Baseline Rd</td>\n",
       "      <td>Boulder</td>\n",
       "      <td>Colorado</td>\n",
       "      <td>80302</td>\n",
       "      <td>2018</td>\n",
       "      <td>2</td>\n",
       "      <td>9</td>\n",
       "      <td>5</td>\n",
       "      <td>17</td>\n",
       "      <td>60.0</td>\n",
       "    </tr>\n",
       "    <tr>\n",
       "      <th>...</th>\n",
       "      <td>...</td>\n",
       "      <td>...</td>\n",
       "      <td>...</td>\n",
       "      <td>...</td>\n",
       "      <td>...</td>\n",
       "      <td>...</td>\n",
       "      <td>...</td>\n",
       "      <td>...</td>\n",
       "      <td>...</td>\n",
       "      <td>...</td>\n",
       "      <td>...</td>\n",
       "    </tr>\n",
       "    <tr>\n",
       "      <th>208957</th>\n",
       "      <td>BOULDER / BASELINE ST1</td>\n",
       "      <td>900 Baseline Rd</td>\n",
       "      <td>Boulder</td>\n",
       "      <td>Colorado</td>\n",
       "      <td>80302</td>\n",
       "      <td>2023</td>\n",
       "      <td>3</td>\n",
       "      <td>31</td>\n",
       "      <td>5</td>\n",
       "      <td>6</td>\n",
       "      <td>1.0</td>\n",
       "    </tr>\n",
       "    <tr>\n",
       "      <th>208958</th>\n",
       "      <td>BOULDER / BASELINE ST1</td>\n",
       "      <td>900 Baseline Rd</td>\n",
       "      <td>Boulder</td>\n",
       "      <td>Colorado</td>\n",
       "      <td>80302</td>\n",
       "      <td>2023</td>\n",
       "      <td>3</td>\n",
       "      <td>31</td>\n",
       "      <td>5</td>\n",
       "      <td>7</td>\n",
       "      <td>60.0</td>\n",
       "    </tr>\n",
       "    <tr>\n",
       "      <th>208959</th>\n",
       "      <td>BOULDER / BASELINE ST1</td>\n",
       "      <td>900 Baseline Rd</td>\n",
       "      <td>Boulder</td>\n",
       "      <td>Colorado</td>\n",
       "      <td>80302</td>\n",
       "      <td>2023</td>\n",
       "      <td>3</td>\n",
       "      <td>31</td>\n",
       "      <td>5</td>\n",
       "      <td>8</td>\n",
       "      <td>60.0</td>\n",
       "    </tr>\n",
       "    <tr>\n",
       "      <th>208960</th>\n",
       "      <td>BOULDER / BASELINE ST1</td>\n",
       "      <td>900 Baseline Rd</td>\n",
       "      <td>Boulder</td>\n",
       "      <td>Colorado</td>\n",
       "      <td>80302</td>\n",
       "      <td>2023</td>\n",
       "      <td>3</td>\n",
       "      <td>31</td>\n",
       "      <td>5</td>\n",
       "      <td>9</td>\n",
       "      <td>60.0</td>\n",
       "    </tr>\n",
       "    <tr>\n",
       "      <th>208961</th>\n",
       "      <td>BOULDER / BASELINE ST1</td>\n",
       "      <td>900 Baseline Rd</td>\n",
       "      <td>Boulder</td>\n",
       "      <td>Colorado</td>\n",
       "      <td>80302</td>\n",
       "      <td>2023</td>\n",
       "      <td>3</td>\n",
       "      <td>31</td>\n",
       "      <td>5</td>\n",
       "      <td>10</td>\n",
       "      <td>36.0</td>\n",
       "    </tr>\n",
       "  </tbody>\n",
       "</table>\n",
       "<p>208962 rows × 11 columns</p>\n",
       "</div>"
      ],
      "text/plain": [
       "                  Station_Name          Address     City State_Province   \n",
       "0       BOULDER / BASELINE ST1  900 Baseline Rd  Boulder       Colorado  \\\n",
       "1       BOULDER / BASELINE ST1  900 Baseline Rd  Boulder       Colorado   \n",
       "2       BOULDER / BASELINE ST1  900 Baseline Rd  Boulder       Colorado   \n",
       "3       BOULDER / BASELINE ST1  900 Baseline Rd  Boulder       Colorado   \n",
       "4       BOULDER / BASELINE ST1  900 Baseline Rd  Boulder       Colorado   \n",
       "...                        ...              ...      ...            ...   \n",
       "208957  BOULDER / BASELINE ST1  900 Baseline Rd  Boulder       Colorado   \n",
       "208958  BOULDER / BASELINE ST1  900 Baseline Rd  Boulder       Colorado   \n",
       "208959  BOULDER / BASELINE ST1  900 Baseline Rd  Boulder       Colorado   \n",
       "208960  BOULDER / BASELINE ST1  900 Baseline Rd  Boulder       Colorado   \n",
       "208961  BOULDER / BASELINE ST1  900 Baseline Rd  Boulder       Colorado   \n",
       "\n",
       "          Zip  Year  Month  Date  DayOfWeek  Start_Hour   \n",
       "0       80302  2018      1    20          6           7  \\\n",
       "1       80302  2018      1    20          6           8   \n",
       "2       80302  2018      1    20          6           9   \n",
       "3       80302  2018      2     9          5          16   \n",
       "4       80302  2018      2     9          5          17   \n",
       "...       ...   ...    ...   ...        ...         ...   \n",
       "208957  80302  2023      3    31          5           6   \n",
       "208958  80302  2023      3    31          5           7   \n",
       "208959  80302  2023      3    31          5           8   \n",
       "208960  80302  2023      3    31          5           9   \n",
       "208961  80302  2023      3    31          5          10   \n",
       "\n",
       "        Minutes_Occupied_Per_Hour  \n",
       "0                            31.0  \n",
       "1                            60.0  \n",
       "2                            22.0  \n",
       "3                             3.0  \n",
       "4                            60.0  \n",
       "...                           ...  \n",
       "208957                        1.0  \n",
       "208958                       60.0  \n",
       "208959                       60.0  \n",
       "208960                       60.0  \n",
       "208961                       36.0  \n",
       "\n",
       "[208962 rows x 11 columns]"
      ]
     },
     "execution_count": 14,
     "metadata": {},
     "output_type": "execute_result"
    }
   ],
   "source": [
    "df_split\n",
    "# df_split.info()"
   ]
  },
  {
   "cell_type": "code",
   "execution_count": 15,
   "id": "39f80751-54ef-4951-b6c8-718bbc53ee62",
   "metadata": {},
   "outputs": [],
   "source": [
    "# create a new dataframe with all possible combinations of Station_Name, Year, Month, Date, and Hour\n",
    "date_range = pd.date_range(start=df['Start_Date___Time'].min(), end=df['End_Date___Time'].max())\n",
    "hours = range(0, 24)\n",
    "all_times = []\n",
    "columns = ['Station_Name', 'Address', 'City', 'State_Province', 'Zip','Year', 'Month', 'Date', 'DayOfWeek','Start_Hour', 'Minutes_Occupied_Per_Hour']\n",
    "\n",
    "# Generating complete timeseries for all charging stations\n",
    "for station in station_dict:\n",
    "    station_info = (station, station_dict[station]['address'], station_dict[station]['city'], station_dict[station]['state'], station_dict[station]['zip'])\n",
    "    \n",
    "    for date in date_range:\n",
    "        for hour in hours:\n",
    "            all_times.append(station_info+(date.year, date.month, date.day, date.isoweekday(), hour, 0))\n",
    "        \n",
    "\n",
    "total_time_df = pd.DataFrame(all_times, columns=columns)"
   ]
  },
  {
   "cell_type": "code",
   "execution_count": 16,
   "id": "d8020973-28a4-4324-b4cd-0229c2837bdb",
   "metadata": {},
   "outputs": [
    {
     "name": "stdout",
     "output_type": "stream",
     "text": [
      "<class 'pandas.core.frame.DataFrame'>\n",
      "RangeIndex: 1473024 entries, 0 to 1473023\n",
      "Data columns (total 11 columns):\n",
      " #   Column                     Non-Null Count    Dtype \n",
      "---  ------                     --------------    ----- \n",
      " 0   Station_Name               1473024 non-null  object\n",
      " 1   Address                    1473024 non-null  object\n",
      " 2   City                       1473024 non-null  object\n",
      " 3   State_Province             1473024 non-null  object\n",
      " 4   Zip                        1473024 non-null  int64 \n",
      " 5   Year                       1473024 non-null  int64 \n",
      " 6   Month                      1473024 non-null  int64 \n",
      " 7   Date                       1473024 non-null  int64 \n",
      " 8   DayOfWeek                  1473024 non-null  int64 \n",
      " 9   Start_Hour                 1473024 non-null  int64 \n",
      " 10  Minutes_Occupied_Per_Hour  1473024 non-null  int64 \n",
      "dtypes: int64(7), object(4)\n",
      "memory usage: 123.6+ MB\n"
     ]
    }
   ],
   "source": [
    "total_time_df.info()"
   ]
  },
  {
   "cell_type": "code",
   "execution_count": 17,
   "id": "eed78d2b-bd35-4259-a5f1-c7c76c7dc3f9",
   "metadata": {},
   "outputs": [],
   "source": [
    "# merge the original dataframe with the new dataframe to fill in missing hours and dates\n",
    "concat_df = pd.concat([total_time_df, df_split], ignore_index=True)"
   ]
  },
  {
   "cell_type": "code",
   "execution_count": 18,
   "id": "4933ffa6-0c02-4f63-9f9d-cb77050eba34",
   "metadata": {},
   "outputs": [
    {
     "name": "stdout",
     "output_type": "stream",
     "text": [
      "<class 'pandas.core.frame.DataFrame'>\n",
      "RangeIndex: 1681986 entries, 0 to 1681985\n",
      "Data columns (total 11 columns):\n",
      " #   Column                     Non-Null Count    Dtype  \n",
      "---  ------                     --------------    -----  \n",
      " 0   Station_Name               1681986 non-null  object \n",
      " 1   Address                    1681986 non-null  object \n",
      " 2   City                       1681986 non-null  object \n",
      " 3   State_Province             1681986 non-null  object \n",
      " 4   Zip                        1681986 non-null  int64  \n",
      " 5   Year                       1681986 non-null  int64  \n",
      " 6   Month                      1681986 non-null  int64  \n",
      " 7   Date                       1681986 non-null  int64  \n",
      " 8   DayOfWeek                  1681986 non-null  int64  \n",
      " 9   Start_Hour                 1681986 non-null  int64  \n",
      " 10  Minutes_Occupied_Per_Hour  1681986 non-null  float64\n",
      "dtypes: float64(1), int64(6), object(4)\n",
      "memory usage: 141.2+ MB\n"
     ]
    }
   ],
   "source": [
    "concat_df.info()"
   ]
  },
  {
   "cell_type": "code",
   "execution_count": 19,
   "id": "eb9e6bc5-0483-480b-a7c4-b465f854fbaa",
   "metadata": {},
   "outputs": [],
   "source": [
    "# Summing up Minutes_Occupied_Per_Hour for each station\n",
    "final_df = concat_df.groupby(concat_df.columns[:-1].tolist()).sum().reset_index()"
   ]
  },
  {
   "cell_type": "code",
   "execution_count": 20,
   "id": "a59cc5ac-43f5-4a49-90d7-dbbb49cd8bf7",
   "metadata": {},
   "outputs": [
    {
     "name": "stdout",
     "output_type": "stream",
     "text": [
      "<class 'pandas.core.frame.DataFrame'>\n",
      "RangeIndex: 1473034 entries, 0 to 1473033\n",
      "Data columns (total 11 columns):\n",
      " #   Column                     Non-Null Count    Dtype  \n",
      "---  ------                     --------------    -----  \n",
      " 0   Station_Name               1473034 non-null  object \n",
      " 1   Address                    1473034 non-null  object \n",
      " 2   City                       1473034 non-null  object \n",
      " 3   State_Province             1473034 non-null  object \n",
      " 4   Zip                        1473034 non-null  int64  \n",
      " 5   Year                       1473034 non-null  int64  \n",
      " 6   Month                      1473034 non-null  int64  \n",
      " 7   Date                       1473034 non-null  int64  \n",
      " 8   DayOfWeek                  1473034 non-null  int64  \n",
      " 9   Start_Hour                 1473034 non-null  int64  \n",
      " 10  Minutes_Occupied_Per_Hour  1473034 non-null  float64\n",
      "dtypes: float64(1), int64(6), object(4)\n",
      "memory usage: 123.6+ MB\n"
     ]
    }
   ],
   "source": [
    "final_df.info()"
   ]
  },
  {
   "cell_type": "code",
   "execution_count": 21,
   "id": "660f42af-3048-4f92-bb35-451d08fe2700",
   "metadata": {},
   "outputs": [],
   "source": [
    "final_df['NumberOfPorts'] = 2"
   ]
  },
  {
   "cell_type": "code",
   "execution_count": 22,
   "id": "71b8851b-be02-449a-9b4f-038dfc25b733",
   "metadata": {},
   "outputs": [],
   "source": [
    "final_df['OccupationRate'] = (final_df['Minutes_Occupied_Per_Hour']/60)/final_df['NumberOfPorts']*100.00"
   ]
  },
  {
   "cell_type": "code",
   "execution_count": 23,
   "id": "e130cde0-9ad7-4000-8a9f-e0262dd2bebe",
   "metadata": {},
   "outputs": [
    {
     "data": {
      "text/html": [
       "<div>\n",
       "<style scoped>\n",
       "    .dataframe tbody tr th:only-of-type {\n",
       "        vertical-align: middle;\n",
       "    }\n",
       "\n",
       "    .dataframe tbody tr th {\n",
       "        vertical-align: top;\n",
       "    }\n",
       "\n",
       "    .dataframe thead th {\n",
       "        text-align: right;\n",
       "    }\n",
       "</style>\n",
       "<table border=\"1\" class=\"dataframe\">\n",
       "  <thead>\n",
       "    <tr style=\"text-align: right;\">\n",
       "      <th></th>\n",
       "      <th>Station_Name</th>\n",
       "      <th>Address</th>\n",
       "      <th>City</th>\n",
       "      <th>State_Province</th>\n",
       "      <th>Zip</th>\n",
       "      <th>Year</th>\n",
       "      <th>Month</th>\n",
       "      <th>Date</th>\n",
       "      <th>DayOfWeek</th>\n",
       "      <th>Start_Hour</th>\n",
       "      <th>Minutes_Occupied_Per_Hour</th>\n",
       "      <th>NumberOfPorts</th>\n",
       "      <th>OccupationRate</th>\n",
       "    </tr>\n",
       "  </thead>\n",
       "  <tbody>\n",
       "  </tbody>\n",
       "</table>\n",
       "</div>"
      ],
      "text/plain": [
       "Empty DataFrame\n",
       "Columns: [Station_Name, Address, City, State_Province, Zip, Year, Month, Date, DayOfWeek, Start_Hour, Minutes_Occupied_Per_Hour, NumberOfPorts, OccupationRate]\n",
       "Index: []"
      ]
     },
     "execution_count": 23,
     "metadata": {},
     "output_type": "execute_result"
    }
   ],
   "source": [
    "final_df[final_df['OccupationRate'] > 100]"
   ]
  },
  {
   "cell_type": "markdown",
   "id": "1578c663-1a96-4fdc-96e9-30c09658d971",
   "metadata": {
    "tags": []
   },
   "source": [
    "####\n",
    "#### Data Exploration"
   ]
  },
  {
   "cell_type": "code",
   "execution_count": 24,
   "id": "1a272f64-c1b4-4a41-bba8-16bdf34d8d75",
   "metadata": {},
   "outputs": [
    {
     "ename": "ModuleNotFoundError",
     "evalue": "No module named 'matplotlib'",
     "output_type": "error",
     "traceback": [
      "\u001b[1;31m---------------------------------------------------------------------------\u001b[0m",
      "\u001b[1;31mModuleNotFoundError\u001b[0m                       Traceback (most recent call last)",
      "Cell \u001b[1;32mIn[24], line 2\u001b[0m\n\u001b[0;32m      1\u001b[0m \u001b[39m# Instance count plot\u001b[39;00m\n\u001b[1;32m----> 2\u001b[0m \u001b[39mimport\u001b[39;00m \u001b[39mmatplotlib\u001b[39;00m\u001b[39m.\u001b[39;00m\u001b[39mpyplot\u001b[39;00m \u001b[39mas\u001b[39;00m \u001b[39mplt\u001b[39;00m\n\u001b[0;32m      4\u001b[0m plt\u001b[39m.\u001b[39mfigure(figsize \u001b[39m=\u001b[39m(\u001b[39m12\u001b[39m, \u001b[39m6\u001b[39m))\n\u001b[0;32m      5\u001b[0m n, bins, _ \u001b[39m=\u001b[39m plt\u001b[39m.\u001b[39mhist(final_df[[\u001b[39m'\u001b[39m\u001b[39mOccupationRate\u001b[39m\u001b[39m'\u001b[39m]], bins\u001b[39m=\u001b[39m\u001b[39m20\u001b[39m, \u001b[39mrange\u001b[39m\u001b[39m=\u001b[39m(\u001b[39m0\u001b[39m, \u001b[39m100\u001b[39m), color\u001b[39m=\u001b[39m\u001b[39m'\u001b[39m\u001b[39mgoldenrod\u001b[39m\u001b[39m'\u001b[39m, rwidth\u001b[39m=\u001b[39m\u001b[39m0.8\u001b[39m)\n",
      "\u001b[1;31mModuleNotFoundError\u001b[0m: No module named 'matplotlib'"
     ]
    }
   ],
   "source": [
    "# Instance count plot\n",
    "import matplotlib.pyplot as plt\n",
    "\n",
    "plt.figure(figsize =(12, 6))\n",
    "n, bins, _ = plt.hist(final_df[['OccupationRate']], bins=20, range=(0, 100), color='goldenrod', rwidth=0.8)\n",
    "plt.ylabel('# of instances')\n",
    "plt.xlabel('Occupation rate (%)') \n",
    "plt.title('Occupation Rate Count')\n",
    "plt.show()"
   ]
  },
  {
   "cell_type": "code",
   "execution_count": 17,
   "id": "3816750e-41cd-406a-95f2-6609439b1c1c",
   "metadata": {},
   "outputs": [
    {
     "data": {
      "text/html": [
       "<div>\n",
       "<style scoped>\n",
       "    .dataframe tbody tr th:only-of-type {\n",
       "        vertical-align: middle;\n",
       "    }\n",
       "\n",
       "    .dataframe tbody tr th {\n",
       "        vertical-align: top;\n",
       "    }\n",
       "\n",
       "    .dataframe thead th {\n",
       "        text-align: right;\n",
       "    }\n",
       "</style>\n",
       "<table border=\"1\" class=\"dataframe\">\n",
       "  <thead>\n",
       "    <tr style=\"text-align: right;\">\n",
       "      <th></th>\n",
       "      <th>Instance count</th>\n",
       "    </tr>\n",
       "  </thead>\n",
       "  <tbody>\n",
       "    <tr>\n",
       "      <th>0.0 - 5.0</th>\n",
       "      <td>1309421</td>\n",
       "    </tr>\n",
       "    <tr>\n",
       "      <th>5.0 - 10.0</th>\n",
       "      <td>7158</td>\n",
       "    </tr>\n",
       "    <tr>\n",
       "      <th>10.0 - 15.0</th>\n",
       "      <td>7055</td>\n",
       "    </tr>\n",
       "    <tr>\n",
       "      <th>15.0 - 20.0</th>\n",
       "      <td>6867</td>\n",
       "    </tr>\n",
       "    <tr>\n",
       "      <th>20.0 - 25.0</th>\n",
       "      <td>6798</td>\n",
       "    </tr>\n",
       "    <tr>\n",
       "      <th>25.0 - 30.0</th>\n",
       "      <td>6999</td>\n",
       "    </tr>\n",
       "    <tr>\n",
       "      <th>30.0 - 35.0</th>\n",
       "      <td>6924</td>\n",
       "    </tr>\n",
       "    <tr>\n",
       "      <th>35.0 - 40.0</th>\n",
       "      <td>6696</td>\n",
       "    </tr>\n",
       "    <tr>\n",
       "      <th>40.0 - 45.0</th>\n",
       "      <td>6428</td>\n",
       "    </tr>\n",
       "    <tr>\n",
       "      <th>45.0 - 50.0</th>\n",
       "      <td>6565</td>\n",
       "    </tr>\n",
       "    <tr>\n",
       "      <th>50.0 - 55.0</th>\n",
       "      <td>79365</td>\n",
       "    </tr>\n",
       "    <tr>\n",
       "      <th>55.0 - 60.0</th>\n",
       "      <td>1978</td>\n",
       "    </tr>\n",
       "    <tr>\n",
       "      <th>60.0 - 65.0</th>\n",
       "      <td>1817</td>\n",
       "    </tr>\n",
       "    <tr>\n",
       "      <th>65.0 - 70.0</th>\n",
       "      <td>1778</td>\n",
       "    </tr>\n",
       "    <tr>\n",
       "      <th>70.0 - 75.0</th>\n",
       "      <td>1775</td>\n",
       "    </tr>\n",
       "    <tr>\n",
       "      <th>75.0 - 80.0</th>\n",
       "      <td>1734</td>\n",
       "    </tr>\n",
       "    <tr>\n",
       "      <th>80.0 - 85.0</th>\n",
       "      <td>1670</td>\n",
       "    </tr>\n",
       "    <tr>\n",
       "      <th>85.0 - 90.0</th>\n",
       "      <td>1594</td>\n",
       "    </tr>\n",
       "    <tr>\n",
       "      <th>90.0 - 95.0</th>\n",
       "      <td>1504</td>\n",
       "    </tr>\n",
       "    <tr>\n",
       "      <th>95.0 - 100.0</th>\n",
       "      <td>8908</td>\n",
       "    </tr>\n",
       "  </tbody>\n",
       "</table>\n",
       "</div>"
      ],
      "text/plain": [
       "              Instance count\n",
       "0.0 - 5.0            1309421\n",
       "5.0 - 10.0              7158\n",
       "10.0 - 15.0             7055\n",
       "15.0 - 20.0             6867\n",
       "20.0 - 25.0             6798\n",
       "25.0 - 30.0             6999\n",
       "30.0 - 35.0             6924\n",
       "35.0 - 40.0             6696\n",
       "40.0 - 45.0             6428\n",
       "45.0 - 50.0             6565\n",
       "50.0 - 55.0            79365\n",
       "55.0 - 60.0             1978\n",
       "60.0 - 65.0             1817\n",
       "65.0 - 70.0             1778\n",
       "70.0 - 75.0             1775\n",
       "75.0 - 80.0             1734\n",
       "80.0 - 85.0             1670\n",
       "85.0 - 90.0             1594\n",
       "90.0 - 95.0             1504\n",
       "95.0 - 100.0            8908"
      ]
     },
     "execution_count": 17,
     "metadata": {},
     "output_type": "execute_result"
    }
   ],
   "source": [
    "# Instance count\n",
    "pd.DataFrame(data=n, index=[str(bins[i])+' - '+str(bins[i+1]) for i in range(len(bins)-1)], columns=['Instance count'], dtype='int')"
   ]
  },
  {
   "cell_type": "code",
   "execution_count": 18,
   "id": "a0ad8b55-ed5a-4448-9726-383d95ee4e35",
   "metadata": {},
   "outputs": [
    {
     "data": {
      "text/html": [
       "<div>\n",
       "<style scoped>\n",
       "    .dataframe tbody tr th:only-of-type {\n",
       "        vertical-align: middle;\n",
       "    }\n",
       "\n",
       "    .dataframe tbody tr th {\n",
       "        vertical-align: top;\n",
       "    }\n",
       "\n",
       "    .dataframe thead th {\n",
       "        text-align: right;\n",
       "    }\n",
       "</style>\n",
       "<table border=\"1\" class=\"dataframe\">\n",
       "  <thead>\n",
       "    <tr style=\"text-align: right;\">\n",
       "      <th></th>\n",
       "      <th>0</th>\n",
       "      <th>1</th>\n",
       "      <th>2</th>\n",
       "      <th>3</th>\n",
       "      <th>4</th>\n",
       "      <th>5</th>\n",
       "      <th>6</th>\n",
       "      <th>7</th>\n",
       "      <th>8</th>\n",
       "      <th>9</th>\n",
       "      <th>...</th>\n",
       "      <th>102</th>\n",
       "      <th>103</th>\n",
       "      <th>104</th>\n",
       "      <th>105</th>\n",
       "      <th>106</th>\n",
       "      <th>107</th>\n",
       "      <th>108</th>\n",
       "      <th>109</th>\n",
       "      <th>110</th>\n",
       "      <th>111</th>\n",
       "    </tr>\n",
       "  </thead>\n",
       "  <tbody>\n",
       "    <tr>\n",
       "      <th>0</th>\n",
       "      <td>1.0</td>\n",
       "      <td>0.0</td>\n",
       "      <td>0.0</td>\n",
       "      <td>0.0</td>\n",
       "      <td>0.0</td>\n",
       "      <td>0.0</td>\n",
       "      <td>0.0</td>\n",
       "      <td>0.0</td>\n",
       "      <td>0.0</td>\n",
       "      <td>0.0</td>\n",
       "      <td>...</td>\n",
       "      <td>0.0</td>\n",
       "      <td>0.0</td>\n",
       "      <td>0.0</td>\n",
       "      <td>0.0</td>\n",
       "      <td>0.0</td>\n",
       "      <td>0.0</td>\n",
       "      <td>0.0</td>\n",
       "      <td>0.0</td>\n",
       "      <td>0.0</td>\n",
       "      <td>0.0</td>\n",
       "    </tr>\n",
       "    <tr>\n",
       "      <th>1</th>\n",
       "      <td>1.0</td>\n",
       "      <td>0.0</td>\n",
       "      <td>0.0</td>\n",
       "      <td>0.0</td>\n",
       "      <td>0.0</td>\n",
       "      <td>0.0</td>\n",
       "      <td>0.0</td>\n",
       "      <td>0.0</td>\n",
       "      <td>0.0</td>\n",
       "      <td>0.0</td>\n",
       "      <td>...</td>\n",
       "      <td>0.0</td>\n",
       "      <td>0.0</td>\n",
       "      <td>0.0</td>\n",
       "      <td>0.0</td>\n",
       "      <td>0.0</td>\n",
       "      <td>0.0</td>\n",
       "      <td>0.0</td>\n",
       "      <td>0.0</td>\n",
       "      <td>0.0</td>\n",
       "      <td>0.0</td>\n",
       "    </tr>\n",
       "    <tr>\n",
       "      <th>2</th>\n",
       "      <td>1.0</td>\n",
       "      <td>0.0</td>\n",
       "      <td>0.0</td>\n",
       "      <td>0.0</td>\n",
       "      <td>0.0</td>\n",
       "      <td>0.0</td>\n",
       "      <td>0.0</td>\n",
       "      <td>0.0</td>\n",
       "      <td>0.0</td>\n",
       "      <td>0.0</td>\n",
       "      <td>...</td>\n",
       "      <td>0.0</td>\n",
       "      <td>0.0</td>\n",
       "      <td>0.0</td>\n",
       "      <td>0.0</td>\n",
       "      <td>0.0</td>\n",
       "      <td>0.0</td>\n",
       "      <td>0.0</td>\n",
       "      <td>0.0</td>\n",
       "      <td>0.0</td>\n",
       "      <td>0.0</td>\n",
       "    </tr>\n",
       "    <tr>\n",
       "      <th>3</th>\n",
       "      <td>1.0</td>\n",
       "      <td>0.0</td>\n",
       "      <td>0.0</td>\n",
       "      <td>0.0</td>\n",
       "      <td>0.0</td>\n",
       "      <td>0.0</td>\n",
       "      <td>0.0</td>\n",
       "      <td>0.0</td>\n",
       "      <td>0.0</td>\n",
       "      <td>0.0</td>\n",
       "      <td>...</td>\n",
       "      <td>0.0</td>\n",
       "      <td>0.0</td>\n",
       "      <td>0.0</td>\n",
       "      <td>0.0</td>\n",
       "      <td>0.0</td>\n",
       "      <td>0.0</td>\n",
       "      <td>0.0</td>\n",
       "      <td>0.0</td>\n",
       "      <td>0.0</td>\n",
       "      <td>0.0</td>\n",
       "    </tr>\n",
       "    <tr>\n",
       "      <th>4</th>\n",
       "      <td>1.0</td>\n",
       "      <td>0.0</td>\n",
       "      <td>0.0</td>\n",
       "      <td>0.0</td>\n",
       "      <td>0.0</td>\n",
       "      <td>0.0</td>\n",
       "      <td>0.0</td>\n",
       "      <td>0.0</td>\n",
       "      <td>0.0</td>\n",
       "      <td>0.0</td>\n",
       "      <td>...</td>\n",
       "      <td>0.0</td>\n",
       "      <td>0.0</td>\n",
       "      <td>0.0</td>\n",
       "      <td>0.0</td>\n",
       "      <td>0.0</td>\n",
       "      <td>0.0</td>\n",
       "      <td>0.0</td>\n",
       "      <td>0.0</td>\n",
       "      <td>0.0</td>\n",
       "      <td>0.0</td>\n",
       "    </tr>\n",
       "  </tbody>\n",
       "</table>\n",
       "<p>5 rows × 112 columns</p>\n",
       "</div>"
      ],
      "text/plain": [
       "   0    1    2    3    4    5    6    7    8    9    ...  102  103  104  105  \\\n",
       "0  1.0  0.0  0.0  0.0  0.0  0.0  0.0  0.0  0.0  0.0  ...  0.0  0.0  0.0  0.0   \n",
       "1  1.0  0.0  0.0  0.0  0.0  0.0  0.0  0.0  0.0  0.0  ...  0.0  0.0  0.0  0.0   \n",
       "2  1.0  0.0  0.0  0.0  0.0  0.0  0.0  0.0  0.0  0.0  ...  0.0  0.0  0.0  0.0   \n",
       "3  1.0  0.0  0.0  0.0  0.0  0.0  0.0  0.0  0.0  0.0  ...  0.0  0.0  0.0  0.0   \n",
       "4  1.0  0.0  0.0  0.0  0.0  0.0  0.0  0.0  0.0  0.0  ...  0.0  0.0  0.0  0.0   \n",
       "\n",
       "   106  107  108  109  110  111  \n",
       "0  0.0  0.0  0.0  0.0  0.0  0.0  \n",
       "1  0.0  0.0  0.0  0.0  0.0  0.0  \n",
       "2  0.0  0.0  0.0  0.0  0.0  0.0  \n",
       "3  0.0  0.0  0.0  0.0  0.0  0.0  \n",
       "4  0.0  0.0  0.0  0.0  0.0  0.0  \n",
       "\n",
       "[5 rows x 112 columns]"
      ]
     },
     "execution_count": 18,
     "metadata": {},
     "output_type": "execute_result"
    }
   ],
   "source": [
    "# Select relevant attributes and construct features/target dataframes\n",
    "import numpy as np\n",
    "from sklearn.preprocessing import OneHotEncoder\n",
    "\n",
    "# Features dataframe\n",
    "ohe = OneHotEncoder()\n",
    "features = final_df[['Station_Name','Year', 'Month', 'Date', 'DayOfWeek','Start_Hour']]\n",
    "features = pd.DataFrame(ohe.fit_transform(features).toarray())\n",
    "\n",
    "# Target dataframe\n",
    "target = pd.DataFrame()\n",
    "target['Available_spot?'] = np.where(final_df['OccupationRate'] >= 50, 1, 0)\n",
    "\n",
    "features.head()\n",
    "# target.head()"
   ]
  },
  {
   "cell_type": "code",
   "execution_count": 19,
   "id": "40fca058-a752-4d03-b526-a6a85130a6be",
   "metadata": {},
   "outputs": [
    {
     "name": "stdout",
     "output_type": "stream",
     "text": [
      "    Likely to get a spot (Class 0):  1370911 instances\n",
      "Not likely to get a spot (Class 1):   102123 instances\n"
     ]
    }
   ],
   "source": [
    "# Target class statistics\n",
    "c0 = target[target['Available_spot?'] == 0].count()[0]\n",
    "c1 = target[target['Available_spot?'] == 1].count()[0]\n",
    "\n",
    "print(f\"    Likely to get a spot (Class 0): {c0:8} instances\")\n",
    "print(f\"Not likely to get a spot (Class 1): {c1:8} instances\")"
   ]
  },
  {
   "cell_type": "markdown",
   "id": "bcc807cc-87af-4002-bbf8-0c01460155e1",
   "metadata": {
    "tags": []
   },
   "source": [
    "####\n",
    "#### Undersampling"
   ]
  },
  {
   "cell_type": "code",
   "execution_count": 20,
   "id": "f49e5241-7e08-4176-9814-7707d6091992",
   "metadata": {},
   "outputs": [
    {
     "name": "stdout",
     "output_type": "stream",
     "text": [
      "Before undersampling: Counter({0: 1370911, 1: 102123})\n"
     ]
    }
   ],
   "source": [
    "# Class count before undersampling\n",
    "from collections import Counter\n",
    "\n",
    "counter = Counter(target['Available_spot?'])\n",
    "print('Before undersampling:', counter)"
   ]
  },
  {
   "cell_type": "code",
   "execution_count": 21,
   "id": "d20654cb-0ffb-49af-be29-f5f4e7044686",
   "metadata": {},
   "outputs": [
    {
     "name": "stdout",
     "output_type": "stream",
     "text": [
      "After undersampling: Counter({0: 102123, 1: 102123})\n"
     ]
    }
   ],
   "source": [
    "# Random undersampling\n",
    "from imblearn.under_sampling import RandomUnderSampler\n",
    "\n",
    "rus = RandomUnderSampler(random_state=11)\n",
    "features, target = rus.fit_resample(features, target)\n",
    "\n",
    "# Class count after undersampling\n",
    "counter = Counter(target['Available_spot?'])\n",
    "print('After undersampling:', counter)"
   ]
  },
  {
   "cell_type": "code",
   "execution_count": null,
   "id": "c7644f02-e1ea-4d32-a809-01dd4cccca80",
   "metadata": {},
   "outputs": [],
   "source": [
    "'''\n",
    "\n",
    "### Using OSS undersamling could potentially increase performance but it's currently taking too long to run ###\n",
    "\n",
    "\n",
    "\n",
    "# One-Sided Selection (OSS) undersampling\n",
    "from imblearn.under_sampling import OneSidedSelection\n",
    "\n",
    "undersample = OneSidedSelection(n_neighbors=1, n_seeds_S=200, random_state=11)\n",
    "features, target = undersample.fit_resample(features, target)\n",
    "\n",
    "# Class count after undersampling\n",
    "counter = Counter(target)\n",
    "print('After undersampling:', counter)\n",
    "\n",
    "'''"
   ]
  },
  {
   "cell_type": "markdown",
   "id": "b8c06874-7e06-440c-91b0-4f051ec282c7",
   "metadata": {},
   "source": [
    "####\n",
    "#### Modeling and Eval"
   ]
  },
  {
   "cell_type": "code",
   "execution_count": 22,
   "id": "68f8d7cc-ffa8-446e-972a-837165b87b63",
   "metadata": {},
   "outputs": [],
   "source": [
    "# Train-test split\n",
    "from sklearn.model_selection import train_test_split\n",
    "X_train, X_test, y_train, y_test = train_test_split(features.to_numpy(), target.to_numpy().flatten(), test_size=0.1, random_state=11)"
   ]
  },
  {
   "cell_type": "markdown",
   "id": "a766a9df-57c4-473f-aad1-f57ba277eeb1",
   "metadata": {},
   "source": [
    "##### Logistic regression"
   ]
  },
  {
   "cell_type": "code",
   "execution_count": 23,
   "id": "251fd46f-05c1-46f6-bad0-fbae1a4fddde",
   "metadata": {},
   "outputs": [],
   "source": [
    "from sklearn.linear_model import LogisticRegression\n",
    "\n",
    "lr = LogisticRegression(random_state=11)\n",
    "lr.fit(X_train, y_train)\n",
    "\n",
    "y_pred_lr = lr.predict(X_test)"
   ]
  },
  {
   "cell_type": "code",
   "execution_count": 24,
   "id": "acdc2999-41a5-43c7-b720-229f38eef1f2",
   "metadata": {},
   "outputs": [
    {
     "name": "stdout",
     "output_type": "stream",
     "text": [
      "Confusion matrix:\n",
      "[[7347 2953]\n",
      " [2169 7956]]\n",
      "\n",
      "                                    precision    recall  f1-score   support\n",
      "\n",
      "    Likely to get a spot (Class 0)       0.77      0.71      0.74     10300\n",
      "Not likely to get a spot (Class 1)       0.73      0.79      0.76     10125\n",
      "\n",
      "                          accuracy                           0.75     20425\n",
      "                         macro avg       0.75      0.75      0.75     20425\n",
      "                      weighted avg       0.75      0.75      0.75     20425\n",
      "\n"
     ]
    }
   ],
   "source": [
    "# Model evaluation\n",
    "from sklearn.metrics import confusion_matrix, classification_report\n",
    "\n",
    "print('Confusion matrix:')\n",
    "print(confusion_matrix(y_test, y_pred_lr))\n",
    "print()\n",
    "print(classification_report(y_test, y_pred_lr, target_names=['Likely to get a spot (Class 0)', 'Not likely to get a spot (Class 1)']))"
   ]
  },
  {
   "cell_type": "markdown",
   "id": "d2091675-384e-4be5-8174-3cbe8d7f0feb",
   "metadata": {},
   "source": [
    "##### Linear support vector classifier"
   ]
  },
  {
   "cell_type": "code",
   "execution_count": 25,
   "id": "5c6859df-9d4a-49ce-b588-52be3c9034fa",
   "metadata": {},
   "outputs": [],
   "source": [
    "from sklearn.svm import LinearSVC\n",
    "svc = LinearSVC(random_state=11)\n",
    "svc.fit(X_train, y_train)\n",
    "\n",
    "y_pred_svc = svc.predict(X_test)"
   ]
  },
  {
   "cell_type": "code",
   "execution_count": 26,
   "id": "e8b5552d-d55b-4298-9868-8da12ef53e96",
   "metadata": {},
   "outputs": [
    {
     "name": "stdout",
     "output_type": "stream",
     "text": [
      "Confusion matrix:\n",
      "[[7282 3018]\n",
      " [2143 7982]]\n",
      "\n",
      "                                    precision    recall  f1-score   support\n",
      "\n",
      "    Likely to get a spot (Class 0)       0.77      0.71      0.74     10300\n",
      "Not likely to get a spot (Class 1)       0.73      0.79      0.76     10125\n",
      "\n",
      "                          accuracy                           0.75     20425\n",
      "                         macro avg       0.75      0.75      0.75     20425\n",
      "                      weighted avg       0.75      0.75      0.75     20425\n",
      "\n"
     ]
    }
   ],
   "source": [
    "# Model evaluation\n",
    "\n",
    "print('Confusion matrix:')\n",
    "print(confusion_matrix(y_test, y_pred_svc))\n",
    "print()\n",
    "print(classification_report(y_test, y_pred_svc, target_names=['Likely to get a spot (Class 0)', 'Not likely to get a spot (Class 1)']))"
   ]
  },
  {
   "cell_type": "markdown",
   "id": "f33f4534-3e26-4e3f-9149-8d6b2a412c5a",
   "metadata": {},
   "source": [
    "##### Random forest"
   ]
  },
  {
   "cell_type": "code",
   "execution_count": 27,
   "id": "a980de3b-5c9c-4846-9d81-240d7ea10dfc",
   "metadata": {},
   "outputs": [],
   "source": [
    "from sklearn.ensemble import RandomForestClassifier\n",
    "rf = RandomForestClassifier(max_depth=100, random_state=11)\n",
    "rf.fit(X_train, y_train)\n",
    "\n",
    "y_pred_rf = rf.predict(X_test)"
   ]
  },
  {
   "cell_type": "code",
   "execution_count": 28,
   "id": "65a07980-b8c6-4def-807c-2ec56b75d934",
   "metadata": {},
   "outputs": [
    {
     "name": "stdout",
     "output_type": "stream",
     "text": [
      "Confusion matrix:\n",
      "[[8519 1781]\n",
      " [1067 9058]]\n",
      "\n",
      "                                    precision    recall  f1-score   support\n",
      "\n",
      "    Likely to get a spot (Class 0)       0.89      0.83      0.86     10300\n",
      "Not likely to get a spot (Class 1)       0.84      0.89      0.86     10125\n",
      "\n",
      "                          accuracy                           0.86     20425\n",
      "                         macro avg       0.86      0.86      0.86     20425\n",
      "                      weighted avg       0.86      0.86      0.86     20425\n",
      "\n"
     ]
    }
   ],
   "source": [
    "# Model evaluation\n",
    "\n",
    "print('Confusion matrix:')\n",
    "print(confusion_matrix(y_test, y_pred_rf))\n",
    "print()\n",
    "print(classification_report(y_test, y_pred_rf, target_names=['Likely to get a spot (Class 0)', 'Not likely to get a spot (Class 1)']))"
   ]
  },
  {
   "cell_type": "code",
   "execution_count": 29,
   "id": "305e5c72-793b-4d66-abbd-bac4a5c4c2bf",
   "metadata": {},
   "outputs": [
    {
     "data": {
      "image/png": "[encoded data removed]",
      "text/plain": [
       "<Figure size 1296x432 with 1 Axes>"
      ]
     },
     "metadata": {
      "needs_background": "light"
     },
     "output_type": "display_data"
    }
   ],
   "source": [
    "# Feature importance\n",
    "imp = rf.feature_importances_\n",
    "\n",
    "plt.figure(figsize =(18, 6))\n",
    "plt.bar([f\"feature {i}\" for i in range(len(imp))], imp, color='goldenrod', width=0.5)\n",
    "plt.ylabel('Importance')\n",
    "plt.xlabel('Features') \n",
    "plt.xticks(rotation=90, fontsize=7)\n",
    "plt.title('Feature Importance')\n",
    "plt.show()"
   ]
  },
  {
   "cell_type": "markdown",
   "id": "7764efda-bb9b-4df2-86fa-2e97c503bc77",
   "metadata": {},
   "source": [
    "##### kNN"
   ]
  },
  {
   "cell_type": "code",
   "execution_count": 30,
   "id": "3c8c8404-88df-49c4-a2c5-495d08de3b07",
   "metadata": {},
   "outputs": [],
   "source": [
    "from sklearn.neighbors import KNeighborsClassifier\n",
    "knn = KNeighborsClassifier(n_neighbors=5)\n",
    "knn.fit(X_train, y_train)\n",
    "\n",
    "y_pred_knn = knn.predict(X_test)"
   ]
  },
  {
   "cell_type": "code",
   "execution_count": 31,
   "id": "3f964d5a-a104-4f2f-9778-be581beacde3",
   "metadata": {},
   "outputs": [
    {
     "name": "stdout",
     "output_type": "stream",
     "text": [
      "Confusion matrix:\n",
      "[[6810 3490]\n",
      " [1261 8864]]\n",
      "\n",
      "                                    precision    recall  f1-score   support\n",
      "\n",
      "    Likely to get a spot (Class 0)       0.84      0.66      0.74     10300\n",
      "Not likely to get a spot (Class 1)       0.72      0.88      0.79     10125\n",
      "\n",
      "                          accuracy                           0.77     20425\n",
      "                         macro avg       0.78      0.77      0.77     20425\n",
      "                      weighted avg       0.78      0.77      0.76     20425\n",
      "\n"
     ]
    }
   ],
   "source": [
    "# Model evaluation\n",
    "\n",
    "print('Confusion matrix:')\n",
    "print(confusion_matrix(y_test, y_pred_knn))\n",
    "print()\n",
    "print(classification_report(y_test, y_pred_knn, target_names=['Likely to get a spot (Class 0)', 'Not likely to get a spot (Class 1)']))"
   ]
  },
  {
   "cell_type": "markdown",
   "id": "6484e19f-d77c-4a55-86f3-6e27745ffcf4",
   "metadata": {},
   "source": [
    "####\n",
    "#### Save the Trained Models for Future Use"
   ]
  },
  {
   "cell_type": "code",
   "execution_count": 32,
   "id": "e03ffa43-2c8a-497e-8073-fb15e11cfe65",
   "metadata": {},
   "outputs": [],
   "source": [
    "# Save the models to disk for future use\n",
    "import pickle\n",
    "\n",
    "pickle.dump(ohe, open('ohe.sav', 'wb'))\n",
    "pickle.dump(lr, open('lr_model.sav', 'wb'))\n",
    "pickle.dump(svc, open('svc_model.sav', 'wb'))\n",
    "pickle.dump(rf, open('rf_model.sav', 'wb'))\n",
    "pickle.dump(knn, open('knn_model.sav', 'wb'))"
   ]
  },
  {
   "cell_type": "code",
   "execution_count": null,
   "id": "b1ceb6ad-7871-4bfd-b341-287eeff8d0b7",
   "metadata": {},
   "outputs": [],
   "source": [
    "'''\n",
    "\n",
    "# Load the model from disk\n",
    "loaded_ohe = pickle.load(open('ohe.sav', 'rb'))\n",
    "loaded_lr = pickle.load(open('lr_model.sav', 'rb'))\n",
    "loaded_svc = pickle.load(open('svc_model.sav', 'rb'))\n",
    "loaded_rf = pickle.load(open('rf_model.sav', 'rb'))\n",
    "loaded_knn = pickle.load(open('knn_model.sav', 'rb'))\n",
    "\n",
    "# Prediction\n",
    "testset = X_test\n",
    "lr_result = loaded_lr.predict(testset)\n",
    "svc_result = loaded_svc.predict(testset)\n",
    "rf_result = loaded_rf.predict(testset)\n",
    "knn_result = loaded_knn.predict(testset)\n",
    "\n",
    "'''"
   ]
  },
  {
   "cell_type": "markdown",
   "id": "c12cd270-1c1e-4f4f-8e65-1e3e9585ac95",
   "metadata": {},
   "source": [
    "####\n",
    "#### Predicting Random Testsets with the Saved Models"
   ]
  },
  {
   "cell_type": "code",
   "execution_count": 33,
   "id": "f81f14aa-fcf9-4076-971c-e40616a4f305",
   "metadata": {},
   "outputs": [],
   "source": [
    "def available_spot(testset=[[]], model='lr'):\n",
    "    test_df = pd.DataFrame(columns=['Station_Name','Year', 'Month', 'Date', 'DayOfWeek','Start_Hour'])\n",
    "    \n",
    "    for row in testset:\n",
    "        test_df.loc[len(test_df.index)] = row\n",
    "    \n",
    "    loaded_ohe = pickle.load(open('ohe.sav', 'rb'))\n",
    "    x = loaded_ohe.transform(test_df)\n",
    "    \n",
    "    if model == 'lr':\n",
    "        loaded_lr = pickle.load(open('lr_model.sav', 'rb'))\n",
    "        result = loaded_lr.predict(x)\n",
    "    elif model == 'svc':\n",
    "        loaded_svc = pickle.load(open('svc_model.sav', 'rb'))\n",
    "        result = loaded_svc.predict(x)\n",
    "    elif model == 'rf':\n",
    "        loaded_rf = pickle.load(open('rf_model.sav', 'rb'))\n",
    "        result = loaded_rf.predict(x)\n",
    "    elif model == 'knn':\n",
    "        loaded_knn = pickle.load(open('knn_model.sav', 'rb'))\n",
    "        result = loaded_knn.predict(x)\n",
    "    else:\n",
    "        raise Exception('Invalid model name')\n",
    "    \n",
    "    class_dict = {0:'Likely to get a spot (Class 0)', 1:'Not likely to get a spot (Class 1)'}    \n",
    "    for idx, pred in enumerate(result):\n",
    "        print(f'Row {idx+1} - Prediction: {class_dict[pred]}')"
   ]
  },
  {
   "cell_type": "code",
   "execution_count": 34,
   "id": "fdf8999a-4396-472c-953b-072faad1875e",
   "metadata": {},
   "outputs": [
    {
     "name": "stdout",
     "output_type": "stream",
     "text": [
      "Row 1 - Prediction: Likely to get a spot (Class 0)\n"
     ]
    }
   ],
   "source": [
    "# Prediction\n",
    "available_spot(testset=[['BOULDER / AIRPORT ST1', 2018, 1, 1, 1, 0]], model='lr')"
   ]
  },
  {
   "cell_type": "code",
   "execution_count": null,
   "id": "bf06f0f4-f61e-4bd1-afe4-d59aa3d1ac6f",
   "metadata": {},
   "outputs": [],
   "source": []
  }
 ],
 "metadata": {
  "kernelspec": {
   "display_name": "Python 3 (ipykernel)",
   "language": "python",
   "name": "python3"
  },
  "language_info": {
   "codemirror_mode": {
    "name": "ipython",
    "version": 3
   },
   "file_extension": ".py",
   "mimetype": "text/x-python",
   "name": "python",
   "nbconvert_exporter": "python",
   "pygments_lexer": "ipython3",
   "version": "3.10.6"
  }
 },
 "nbformat": 4,
 "nbformat_minor": 5
}
